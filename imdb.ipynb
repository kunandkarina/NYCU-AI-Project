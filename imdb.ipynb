{
 "cells": [
  {
   "cell_type": "code",
   "execution_count": 1,
   "metadata": {},
   "outputs": [],
   "source": [
    "import pandas as pd\n",
    "import time\n",
    "import selenium\n",
    "from selenium import webdriver\n",
    "from selenium.webdriver.common.by import By\n",
    "from selenium.webdriver.chrome.options import Options\n",
    "import requests\n",
    "from bs4 import BeautifulSoup\n",
    "from glob import glob"
   ]
  },
  {
   "cell_type": "code",
   "execution_count": 2,
   "metadata": {},
   "outputs": [],
   "source": [
    "# 設定Chrome Driver的執行檔路徑\n",
    "options = webdriver.ChromeOptions()\n",
    "options.add_experimental_option(\"excludeSwitches\", [\"enable-automation\"])\n",
    "options.add_experimental_option('useAutomationExtension', False)\n",
    "options.add_experimental_option(\"prefs\", {\"profile.password_manager_enabled\": False, \"credentials_enable_service\": False})\n",
    "options.chrome_executable_path=\"C:\\\\Users\\\\user\\\\Desktop\\\\code\\\\python\\\\project\\\\chromedriver.exe\""
   ]
  },
  {
   "cell_type": "code",
   "execution_count": 3,
   "metadata": {},
   "outputs": [],
   "source": [
    "# 建立 Driver物件實體，讓程式操作瀏覽器運作\n",
    "driver=webdriver.Chrome(options=options)\n",
    "# 要爬蟲的網頁\n",
    "driver.get(\"https://www.imdb.com/search/title/?groups=top_100\")\n",
    "# driver.get(\"https://www.imdb.com/search/title/?title_type=feature&year=2023-01-01,2023-12-31\")\n",
    "# 設定程式碼的等待時間，以防網頁還沒有加載完就執行程式\n",
    "driver.implicitly_wait(10)\n"
   ]
  },
  {
   "cell_type": "code",
   "execution_count": 4,
   "metadata": {},
   "outputs": [
    {
     "name": "stdout",
     "output_type": "stream",
     "text": [
      "['蜘蛛人：穿越新宇宙', '蜘蛛人：新宇宙', '教父', '刺激1995', '法櫃奇兵', '星際效應', '四海好傢伙', '全面啟動', '黑暗騎士', '黑色追緝令', '復仇者聯盟：終局之戰', '寄生上流', '魔戒首部曲：魔戒現身', '綠色奇蹟', '鬥陣俱樂部', '神鬼無間', '搶救雷恩大兵', '進擊的鼓手', '惡棍特工', '阿甘正傳', '回到未來', '心靈捕手', '火線追緝令', '現代啟示錄', '駭客任務', '辛德勒的名單', '沉默的羔羊', '異形', '教父2', '終極追殺令', '決殺令', '噩夢輓歌', '小丑', '神鬼戰士', '星際大戰', '頂尖對決', '復仇者聯盟：無限之戰', '北非諜影', '美國心玫瑰情', '原罪犯', '鬼店', '北西北', '魔戒三部曲：王者再臨', '2001：太空漫遊', '十二怒漢', '獅子王', '記憶拼圖', '魔鬼終結者2', '黑暗騎士：黎明昇起', '飛越杜鵑窩']\n",
      "['(2023)', '(2018)', '(1972)', '(1994)', '(1981)', '(2014)', '(1990)', '(2010)', '(2008)', '(1994)', '(2019)', '(2019)', '(2001)', '(1999)', '(1999)', '(2006)', '(1998)', '(2014)', '(2009)', '(1994)', '(1985)', '(1997)', '(1995)', '(1979)', '(1999)', '(1993)', '(1991)', '(1979)', '(1974)', '(1994)', '(2012)', '(2000)', '(2019)', '(2000)', '(1977)', '(2006)', '(2018)', '(1942)', '(1999)', '(2003)', '(1980)', '(1959)', '(2003)', '(1968)', '(1957)', '(1994)', '(2000)', '(1991)', '(2012)', '(1975)']\n",
      "['https://www.imdb.com/title/tt9362722/?ref_=adv_li_tt', 'https://www.imdb.com/title/tt4633694/?ref_=adv_li_tt', 'https://www.imdb.com/title/tt0068646/?ref_=adv_li_tt', 'https://www.imdb.com/title/tt0111161/?ref_=adv_li_tt', 'https://www.imdb.com/title/tt0082971/?ref_=adv_li_tt', 'https://www.imdb.com/title/tt0816692/?ref_=adv_li_tt', 'https://www.imdb.com/title/tt0099685/?ref_=adv_li_tt', 'https://www.imdb.com/title/tt1375666/?ref_=adv_li_tt', 'https://www.imdb.com/title/tt0468569/?ref_=adv_li_tt', 'https://www.imdb.com/title/tt0110912/?ref_=adv_li_tt', 'https://www.imdb.com/title/tt4154796/?ref_=adv_li_tt', 'https://www.imdb.com/title/tt6751668/?ref_=adv_li_tt', 'https://www.imdb.com/title/tt0120737/?ref_=adv_li_tt', 'https://www.imdb.com/title/tt0120689/?ref_=adv_li_tt', 'https://www.imdb.com/title/tt0137523/?ref_=adv_li_tt', 'https://www.imdb.com/title/tt0407887/?ref_=adv_li_tt', 'https://www.imdb.com/title/tt0120815/?ref_=adv_li_tt', 'https://www.imdb.com/title/tt2582802/?ref_=adv_li_tt', 'https://www.imdb.com/title/tt0361748/?ref_=adv_li_tt', 'https://www.imdb.com/title/tt0109830/?ref_=adv_li_tt', 'https://www.imdb.com/title/tt0088763/?ref_=adv_li_tt', 'https://www.imdb.com/title/tt0119217/?ref_=adv_li_tt', 'https://www.imdb.com/title/tt0114369/?ref_=adv_li_tt', 'https://www.imdb.com/title/tt0078788/?ref_=adv_li_tt', 'https://www.imdb.com/title/tt0133093/?ref_=adv_li_tt', 'https://www.imdb.com/title/tt0108052/?ref_=adv_li_tt', 'https://www.imdb.com/title/tt0102926/?ref_=adv_li_tt', 'https://www.imdb.com/title/tt0078748/?ref_=adv_li_tt', 'https://www.imdb.com/title/tt0071562/?ref_=adv_li_tt', 'https://www.imdb.com/title/tt0110413/?ref_=adv_li_tt', 'https://www.imdb.com/title/tt1853728/?ref_=adv_li_tt', 'https://www.imdb.com/title/tt0180093/?ref_=adv_li_tt', 'https://www.imdb.com/title/tt7286456/?ref_=adv_li_tt', 'https://www.imdb.com/title/tt0172495/?ref_=adv_li_tt', 'https://www.imdb.com/title/tt0076759/?ref_=adv_li_tt', 'https://www.imdb.com/title/tt0482571/?ref_=adv_li_tt', 'https://www.imdb.com/title/tt4154756/?ref_=adv_li_tt', 'https://www.imdb.com/title/tt0034583/?ref_=adv_li_tt', 'https://www.imdb.com/title/tt0169547/?ref_=adv_li_tt', 'https://www.imdb.com/title/tt0364569/?ref_=adv_li_tt', 'https://www.imdb.com/title/tt0081505/?ref_=adv_li_tt', 'https://www.imdb.com/title/tt0053125/?ref_=adv_li_tt', 'https://www.imdb.com/title/tt0167260/?ref_=adv_li_tt', 'https://www.imdb.com/title/tt0062622/?ref_=adv_li_tt', 'https://www.imdb.com/title/tt0050083/?ref_=adv_li_tt', 'https://www.imdb.com/title/tt0110357/?ref_=adv_li_tt', 'https://www.imdb.com/title/tt0209144/?ref_=adv_li_tt', 'https://www.imdb.com/title/tt0103064/?ref_=adv_li_tt', 'https://www.imdb.com/title/tt1345836/?ref_=adv_li_tt', 'https://www.imdb.com/title/tt0073486/?ref_=adv_li_tt']\n"
     ]
    }
   ],
   "source": [
    "# 爬取網頁中各個電影的資訊，名稱，連結，出產年分\n",
    "title = []\n",
    "link = []\n",
    "year = []\n",
    "\n",
    "# 在網頁原始碼html中，找尋class = lister-item-header的標籤\n",
    "block = driver.find_elements(By.CLASS_NAME, \"lister-item-header\")\n",
    "# 抓取50部電影的資訊\n",
    "for i in range(0,50):\n",
    "    ft = block[i].text\n",
    "    # 找尋class = lister-item-index的標籤, 這邊是電影的索引\n",
    "    fo = block[i].find_element(By.CLASS_NAME, 'lister-item-index').text\n",
    "    # 找尋class = lister-item-year的標籤, 這邊是電影的年分\n",
    "    fy = block[i].find_element(By.CLASS_NAME, 'lister-item-year').text\n",
    "    # 取得電影的名稱\n",
    "    ft = ft.replace(fo + \" \" , \"\")\n",
    "    ft = ft.replace(fy , \"\")\n",
    "    ft = ft.rstrip()\n",
    "    # 把50部電影名稱存入title的list當中\n",
    "    title.append(ft)\n",
    "# 因為在IMDB中，有些電影的html格式不太一樣，所以需要用其他的方式取得電影的資訊，但是方法與上述一樣\n",
    "blocks = driver.find_elements(By.CLASS_NAME, \"lister-item\")\n",
    "for i in range(0,50): \n",
    "    ftitle = blocks[i].find_element(By.CLASS_NAME, 'lister-item-header').text\n",
    "    forder = blocks[i].find_element(By.CLASS_NAME, 'lister-item-index').text\n",
    "    fyear = ftitle[-6:]\n",
    "    # 把50部電影的年份存入title的list當中\n",
    "    year.append(fyear)\n",
    "    flink = blocks[i].find_element(By.LINK_TEXT, title[i]).get_attribute('href')\n",
    "    # 把50部電影的連結存入title的list當中\n",
    "    link.append(flink)\n",
    "# 檢查結果\n",
    "print(title)\n",
    "print(year)\n",
    "print(link)\n"
   ]
  },
  {
   "cell_type": "code",
   "execution_count": 5,
   "metadata": {},
   "outputs": [
    {
     "name": "stderr",
     "output_type": "stream",
     "text": [
      "C:\\Users\\user\\AppData\\Local\\Temp\\ipykernel_38460\\4065235512.py:13: DeprecationWarning: The 'text' argument to find()-type methods is deprecated. Use 'string' instead.\n",
      "  review_link = 'https://www.imdb.com'+soup.find('a', text = \"User reviews\").get('href')\n"
     ]
    }
   ],
   "source": [
    "# 這邊是要取得每部電影用戶評論的連結\n",
    "user_review_links = []\n",
    "\n",
    "# 進入每部電影個別的連結\n",
    "for url in link:\n",
    "        url = url\n",
    "        # 這邊使用request模組來取得網頁的連線\n",
    "        user_agent = {'User-agent': 'Mozilla/5.0'}\n",
    "        response = requests.get(url, headers = user_agent)\n",
    "        # 這邊使用BeautifulSoup的模組來獲取網頁原始碼\n",
    "        soup = BeautifulSoup(response.text, 'html.parser')\n",
    "        # 在網頁原始碼html中，找尋標籤為a然後text為\"User reviews\"的程式碼，並獲取標籤a中的href超連結\n",
    "        review_link = 'https://www.imdb.com'+soup.find('a', text = \"User reviews\").get('href')\n",
    "        # 將每部電影的用戶評論連結存入user_review_links的list當中\n",
    "        user_review_links.append(review_link)\n",
    "\n",
    "# 製作一個csv檔確認每部電影的資訊，在壓縮檔中叫final.csv\n",
    "top_50_data = {'Movie_name' : title, 'Year' : year, 'link' : link, 'user_review' : user_review_links,}\n",
    "top50 = pd.DataFrame(data = top_50_data)\n",
    "# encoding=\"utf_8_sig\"是讓程式能夠讀出中文字\n",
    "top50.to_csv('final.csv',encoding=\"utf_8_sig\")\n",
    "driver.quit()"
   ]
  },
  {
   "cell_type": "code",
   "execution_count": null,
   "metadata": {},
   "outputs": [],
   "source": [
    "# 這邊就是最重要的部分，在有每部電影的用戶評論連結後，我們要進入這個連結，然後爬取最多200筆用戶分享的評論\n",
    "for i in range(len(top50['user_review'])):\n",
    "    # 這邊也是使用driver物件讓程式操作瀏覽器\n",
    "    driver=webdriver.Chrome(options=options)\n",
    "    driver.get(top50['user_review'][i])\n",
    "    page = 1\n",
    "    # IMDB中每個頁面只有25則評論，因此我們必須翻10頁來取得200筆以上的資訊\n",
    "    while page < 10:\n",
    "        try:\n",
    "            # 用css_selector找尋'load-more-trigger'的位置\n",
    "            css_selector = 'load-more-trigger'\n",
    "            # 使用Driver物件自動點擊\n",
    "            driver.find_element(By.ID, css_selector).click()\n",
    "            time.sleep(3)\n",
    "            page += 1\n",
    "        except:\n",
    "            pass\n",
    "    # 尋找class = review-container的標籤\n",
    "    review = driver.find_elements(By.CLASS_NAME, 'review-container')\n",
    "    # 儲存星星數與評價的list\n",
    "    rating = []\n",
    "    lis = []\n",
    "    cnt = 0\n",
    "    # 設定最多找200筆資訊\n",
    "    for n in range(0,250):\n",
    "        try:\n",
    "            if cnt >=200:\n",
    "                break\n",
    "            # 用戶評論必須同時具備rating和title的資料，否則略過並尋找下一筆\n",
    "            frating = review[n].find_element(By.CLASS_NAME, 'rating-other-user-rating').text\n",
    "            flist = review[n].find_element(By.CLASS_NAME, 'title').text\n",
    "\n",
    "            rating.append(frating)\n",
    "            lis.append(flist)\n",
    "            cnt += 1\n",
    "        except:\n",
    "            continue\n",
    "    # 將rating的資料從string轉成int\n",
    "    for j in range(len(rating)):\n",
    "        rating[j] = rating[j].replace('/10', \"\")\n",
    "        rating[j] = int(rating[j])\n",
    "\n",
    "\n",
    "    # 這邊是將每部電影的200則評論存入csv檔，用來確認有取得資訊，在壓縮檔中是叫folder_name的資料夾\n",
    "    data = {'Rate' : rating, 'Review': lis}\n",
    "    review = pd.DataFrame(data = data)\n",
    "    movie = top50['Movie_name'][i]\n",
    "    review['Movie_name'] = movie\n",
    "    review.to_csv(f'C:\\\\Users\\\\user\\\\Desktop\\\\code\\\\python\\\\project\\\\folder_name\\\\final\\\\{i}.csv', encoding=\"utf_8_sig\")\n",
    "    driver.quit()"
   ]
  }
 ],
 "metadata": {
  "kernelspec": {
   "display_name": "Python 3",
   "language": "python",
   "name": "python3"
  },
  "language_info": {
   "codemirror_mode": {
    "name": "ipython",
    "version": 3
   },
   "file_extension": ".py",
   "mimetype": "text/x-python",
   "name": "python",
   "nbconvert_exporter": "python",
   "pygments_lexer": "ipython3",
   "version": "3.11.3"
  },
  "orig_nbformat": 4
 },
 "nbformat": 4,
 "nbformat_minor": 2
}
